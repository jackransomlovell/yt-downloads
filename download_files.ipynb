{
 "cells": [
  {
   "cell_type": "code",
   "execution_count": 1,
   "id": "ea7993b0",
   "metadata": {},
   "outputs": [],
   "source": [
    "import pandas as pd\n",
    "from pathlib import Path\n",
    "import yt_dlp\n",
    "import numpy as np\n",
    "from copy import deepcopy\n",
    "from tqdm import tqdm"
   ]
  },
  {
   "cell_type": "code",
   "execution_count": 2,
   "id": "977726bd",
   "metadata": {},
   "outputs": [],
   "source": [
    "df = pd.read_csv('homiletics videos.csv', dtype_backend=\"pyarrow\")\n",
    "\n",
    "pdir = Path('/Users/st.clementadmin/Desktop/youtube_download/Homiletics2')\n",
    "pdir.mkdir(parents=True, exist_ok=True)\n",
    "\n",
    "parent_opts = {\n",
    "    'quiet': True,\n",
    "    'no_warnings': True,\n",
    "    'outtmpl': './tmp.%(ext)s',  # let yt_dlp pick the right ext first\n",
    "    'merge_output_format': 'mp4',  # tell ffmpeg to merge into mp4\n",
    "}"
   ]
  },
  {
   "cell_type": "code",
   "execution_count": 3,
   "id": "1c087ea1",
   "metadata": {},
   "outputs": [],
   "source": [
    "def cut_video(row, opts):\n",
    "    opts = deepcopy(opts)\n",
    "    if not pd.isna(row.start):\n",
    "        start, end = row.start, row.end\n",
    "        opts['download_ranges'] = yt_dlp.utils.download_range_func([], [[start, end]])\n",
    "    \n",
    "    return opts"
   ]
  },
  {
   "cell_type": "code",
   "execution_count": null,
   "id": "17487b5d",
   "metadata": {},
   "outputs": [
    {
     "name": "stderr",
     "output_type": "stream",
     "text": [
      "  0%|          | 0/60 [00:00<?, ?it/s]"
     ]
    }
   ],
   "source": [
    "for _, row in tqdm(df.iterrows(), total=len(df)):\n",
    "    \n",
    "    opts = cut_video(row, parent_opts)\n",
    "\n",
    "    subdir = pdir / row.folder\n",
    "    subdir.mkdir(parents=True, exist_ok=True)\n",
    "    path = (subdir / row.file)\n",
    "\n",
    "    if path.exists():\n",
    "        continue\n",
    "    \n",
    "    opts['outtmpl'] = path.as_posix()\n",
    "\n",
    "    with yt_dlp.YoutubeDL(opts) as ydl:\n",
    "        ydl.download(row.URL)"
   ]
  },
  {
   "cell_type": "code",
   "execution_count": null,
   "id": "3fbea807",
   "metadata": {},
   "outputs": [],
   "source": []
  },
  {
   "cell_type": "code",
   "execution_count": null,
   "id": "0a08e898",
   "metadata": {},
   "outputs": [],
   "source": []
  }
 ],
 "metadata": {
  "kernelspec": {
   "display_name": "base",
   "language": "python",
   "name": "python3"
  },
  "language_info": {
   "codemirror_mode": {
    "name": "ipython",
    "version": 3
   },
   "file_extension": ".py",
   "mimetype": "text/x-python",
   "name": "python",
   "nbconvert_exporter": "python",
   "pygments_lexer": "ipython3",
   "version": "3.13.5"
  }
 },
 "nbformat": 4,
 "nbformat_minor": 5
}
