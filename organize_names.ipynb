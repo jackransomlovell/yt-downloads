{
 "cells": [
  {
   "cell_type": "code",
   "execution_count": 15,
   "id": "412f0618",
   "metadata": {},
   "outputs": [],
   "source": [
    "import pandas as pd\n",
    "from pathlib import Path\n",
    "import re"
   ]
  },
  {
   "cell_type": "code",
   "execution_count": null,
   "id": "db2ed416",
   "metadata": {},
   "outputs": [],
   "source": [
    "pdir = Path('/Users/st.clementadmin/Desktop/Homiletics')\n",
    "all_dirs = list(pdir.glob('*'))\n",
    "all_dirs = [d.name for d in all_dirs]\n"
   ]
  },
  {
   "cell_type": "code",
   "execution_count": 16,
   "id": "9b9171b2",
   "metadata": {},
   "outputs": [],
   "source": [
    "def extract_int(s):\n",
    "    match = re.search(r\"\\d+\", s)\n",
    "    return int(match.group()) if match else float(\"inf\")\n",
    "\n",
    "all_dirs = sorted(all_dirs, key=extract_int)"
   ]
  },
  {
   "cell_type": "code",
   "execution_count": 19,
   "id": "31e4f60e",
   "metadata": {},
   "outputs": [],
   "source": [
    "import os"
   ]
  },
  {
   "cell_type": "code",
   "execution_count": 24,
   "id": "924710d5",
   "metadata": {},
   "outputs": [],
   "source": [
    "def file_tree_to_df(root_path):\n",
    "    rows = []\n",
    "    for folder, subfolders, files in os.walk(root_path):\n",
    "        for f in files:\n",
    "            rows.append({\"folder\": folder.split('/')[-1], \"file\": f})\n",
    "    return pd.DataFrame(rows)\n",
    "\n",
    "df = file_tree_to_df(pdir)"
   ]
  },
  {
   "cell_type": "code",
   "execution_count": 25,
   "id": "255eeefe",
   "metadata": {},
   "outputs": [],
   "source": [
    "df2 = df.sort_values(\n",
    "        by=[\"folder\", \"file\"],\n",
    "        key=lambda col: col.map(extract_int)\n",
    "    ).reset_index(drop=True)"
   ]
  },
  {
   "cell_type": "code",
   "execution_count": 27,
   "id": "bd0eda72",
   "metadata": {},
   "outputs": [],
   "source": [
    "df2.to_csv('names_organized.csv')"
   ]
  },
  {
   "cell_type": "code",
   "execution_count": null,
   "id": "9c0fa537",
   "metadata": {},
   "outputs": [],
   "source": []
  }
 ],
 "metadata": {
  "kernelspec": {
   "display_name": "base",
   "language": "python",
   "name": "python3"
  },
  "language_info": {
   "codemirror_mode": {
    "name": "ipython",
    "version": 3
   },
   "file_extension": ".py",
   "mimetype": "text/x-python",
   "name": "python",
   "nbconvert_exporter": "python",
   "pygments_lexer": "ipython3",
   "version": "3.13.5"
  }
 },
 "nbformat": 4,
 "nbformat_minor": 5
}
